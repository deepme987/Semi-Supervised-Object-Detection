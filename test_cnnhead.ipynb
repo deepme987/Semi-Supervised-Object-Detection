{
 "cells": [
  {
   "cell_type": "code",
   "execution_count": 1,
   "metadata": {},
   "outputs": [],
   "source": [
    "import torch\n",
    "import torch.nn as nn\n",
    "import torch.nn.functional as F"
   ]
  },
  {
   "cell_type": "code",
   "execution_count": 175,
   "metadata": {},
   "outputs": [],
   "source": [
    "class MyBottleneck(nn.Module):\n",
    "    def __init__(self, in_planes, planes, stride=1, kernel_last=1, expan=4, short_cut=False):\n",
    "        super(MyBottleneck, self).__init__()\n",
    "        self.short_cut = short_cut\n",
    "        self.expansion = expan\n",
    "        self.conv1 = nn.Conv2d(in_planes, planes, stride=stride, kernel_size=1, bias=False)\n",
    "        self.norm1 = nn.GroupNorm(32, planes)\n",
    "        self.conv2 = nn.Conv2d(planes, planes, kernel_size=3,\n",
    "                               padding=1, bias=False)\n",
    "        self.norm2 = nn.GroupNorm(32, planes)\n",
    "        self.conv3 = nn.Conv2d(planes, self.expansion *\n",
    "                               planes, stride=1, kernel_size=kernel_last, bias=False)\n",
    "        self.norm3 = nn.GroupNorm(32, self.expansion*planes)\n",
    "\n",
    "        if short_cut:\n",
    "            self.shortcut = nn.Sequential()\n",
    "            if stride != 1 or in_planes != self.expansion*planes:\n",
    "                self.shortcut = nn.Sequential(\n",
    "                    nn.Conv2d(in_planes, self.expansion*planes,\n",
    "                            kernel_size=1, stride=stride, bias=False),\n",
    "                    nn.GroupNorm(32, self.expansion*planes)\n",
    "                )\n",
    "\n",
    "    def forward(self, x):\n",
    "        out = F.relu(self.norm1(self.conv1(x)))\n",
    "        out = F.relu(self.norm2(self.conv2(out)))\n",
    "        out = self.norm3(self.conv3(out))\n",
    "        if self.short_cut:\n",
    "            out += self.shortcut(x)\n",
    "        out = F.relu(out)\n",
    "        return out"
   ]
  },
  {
   "cell_type": "code",
   "execution_count": 176,
   "metadata": {},
   "outputs": [],
   "source": [
    "class ResNet(nn.Module):\n",
    "    def __init__(self, block, num_blocks, num_classes=1024):\n",
    "        super(ResNet, self).__init__()\n",
    "        self.in_planes = 256\n",
    "\n",
    "        self.layer1 = block(self.in_planes, 128, 2, expan=4, short_cut=True)\n",
    "        self.layer2 = block(512, 128, 2, expan=4)\n",
    "        self.layer3 = block(512, 128, 1, expan=8, kernel_last=2)\n",
    "        self.norm = nn.GroupNorm(32, 1024)\n",
    "\n",
    "    def forward(self, x):\n",
    "        out = self.layer1(x)\n",
    "        out = self.layer2(out)\n",
    "        out = self.layer3(out)\n",
    "        out = self.norm(out)\n",
    "        out = out.view(out.size(0), -1)\n",
    "        return out\n"
   ]
  },
  {
   "cell_type": "code",
   "execution_count": 23,
   "metadata": {},
   "outputs": [],
   "source": [
    "class CustomizedBoxHeadCNN(nn.Module):\n",
    "    def __init__(self):\n",
    "        super().__init__()\n",
    "        self.layers = nn.Sequential(\n",
    "            self.build_layer(256, 512, (1, 1), (2, 2)),\n",
    "            self.build_layer(512, 256, (1, 1), (2, 2)),\n",
    "            self.build_layer(256, 256, (2, 2), (1, 1), padding=(1, 1)),\n",
    "            self.build_layer(256, 1024, (1, 1), (1, 1)),\n",
    "            \n",
    "            # nn.BatchNorm2d(1024, eps=1e-05, momentum=0.1, affine=True, track_running_stats=True),\n",
    "            nn.GroupNorm(num_groups=32, num_channels=1024, eps=1e-05, affine=True),\n",
    "            nn.ReLU()\n",
    "        )\n",
    "        self.shortcut = nn.Sequential(\n",
    "            self.build_layer(256, 1024, (1, 1), (2, 2)),\n",
    "            nn.GroupNorm(num_groups=32, num_channels=1024, eps=1e-05, affine=True),\n",
    "            nn.ReLU()\n",
    "        )\n",
    "        self.relu = nn.ReLU(inplace=True)\n",
    "    def build_layer(self, in_channels, out_channels, kernel, stride, padding=None):\n",
    "        return nn.Sequential(\n",
    "            nn.Conv2d(in_channels, out_channels, kernel_size=kernel, stride=stride, bias=False),\n",
    "            # nn.BatchNorm2d(out_channels, eps=1e-05, momentum=0.1, affine=True, track_running_stats=True),\n",
    "            nn.GroupNorm(num_groups=32, num_channels=out_channels, eps=1e-05, affine=True),\n",
    "            nn.ReLU()\n",
    "\n",
    "        )\n",
    "\n",
    "    def forward(self, x):\n",
    "        y = self.shortcut(x)\n",
    "        x = self.layers(x)\n",
    "        out = y + x\n",
    "        out = self.relu(out)\n",
    "        return out"
   ]
  },
  {
   "cell_type": "code",
   "execution_count": 177,
   "metadata": {},
   "outputs": [
    {
     "name": "stdout",
     "output_type": "stream",
     "text": [
      "torch.Size([1, 1024])\n"
     ]
    }
   ],
   "source": [
    "# net = CustomizedBoxHeadCNN()\n",
    "net = ResNet50()\n",
    "y = net(torch.randn(1, 256, 7, 7))\n",
    "print(y.size())"
   ]
  },
  {
   "cell_type": "code",
   "execution_count": 178,
   "metadata": {},
   "outputs": [
    {
     "name": "stdout",
     "output_type": "stream",
     "text": [
      "ResNet(\n",
      "  (layer1): Bottleneck(\n",
      "    (conv1): Conv2d(256, 128, kernel_size=(1, 1), stride=(2, 2), bias=False)\n",
      "    (norm1): GroupNorm(32, 128, eps=1e-05, affine=True)\n",
      "    (conv2): Conv2d(128, 128, kernel_size=(3, 3), stride=(1, 1), padding=(1, 1), bias=False)\n",
      "    (norm2): GroupNorm(32, 128, eps=1e-05, affine=True)\n",
      "    (conv3): Conv2d(128, 512, kernel_size=(1, 1), stride=(1, 1), bias=False)\n",
      "    (norm3): GroupNorm(32, 512, eps=1e-05, affine=True)\n",
      "    (shortcut): Sequential(\n",
      "      (0): Conv2d(256, 512, kernel_size=(1, 1), stride=(2, 2), bias=False)\n",
      "      (1): GroupNorm(32, 512, eps=1e-05, affine=True)\n",
      "    )\n",
      "  )\n",
      "  (layer2): Bottleneck(\n",
      "    (conv1): Conv2d(512, 128, kernel_size=(1, 1), stride=(2, 2), bias=False)\n",
      "    (norm1): GroupNorm(32, 128, eps=1e-05, affine=True)\n",
      "    (conv2): Conv2d(128, 128, kernel_size=(3, 3), stride=(1, 1), padding=(1, 1), bias=False)\n",
      "    (norm2): GroupNorm(32, 128, eps=1e-05, affine=True)\n",
      "    (conv3): Conv2d(128, 512, kernel_size=(1, 1), stride=(1, 1), bias=False)\n",
      "    (norm3): GroupNorm(32, 512, eps=1e-05, affine=True)\n",
      "  )\n",
      "  (layer3): Bottleneck(\n",
      "    (conv1): Conv2d(512, 128, kernel_size=(1, 1), stride=(1, 1), bias=False)\n",
      "    (norm1): GroupNorm(32, 128, eps=1e-05, affine=True)\n",
      "    (conv2): Conv2d(128, 128, kernel_size=(3, 3), stride=(1, 1), padding=(1, 1), bias=False)\n",
      "    (norm2): GroupNorm(32, 128, eps=1e-05, affine=True)\n",
      "    (conv3): Conv2d(128, 1024, kernel_size=(2, 2), stride=(1, 1), bias=False)\n",
      "    (norm3): GroupNorm(32, 1024, eps=1e-05, affine=True)\n",
      "  )\n",
      "  (norm): GroupNorm(32, 1024, eps=1e-05, affine=True)\n",
      ")\n"
     ]
    }
   ],
   "source": [
    "print(net)"
   ]
  },
  {
   "cell_type": "code",
   "execution_count": null,
   "metadata": {},
   "outputs": [],
   "source": []
  }
 ],
 "metadata": {
  "interpreter": {
   "hash": "3baf0a13aeb427637864c923c626102087f8e1196172ac79b566f96e25547367"
  },
  "kernelspec": {
   "display_name": "Python 3.9.7 ('base')",
   "language": "python",
   "name": "python3"
  },
  "language_info": {
   "codemirror_mode": {
    "name": "ipython",
    "version": 3
   },
   "file_extension": ".py",
   "mimetype": "text/x-python",
   "name": "python",
   "nbconvert_exporter": "python",
   "pygments_lexer": "ipython3",
   "version": "3.9.7"
  },
  "orig_nbformat": 4
 },
 "nbformat": 4,
 "nbformat_minor": 2
}
